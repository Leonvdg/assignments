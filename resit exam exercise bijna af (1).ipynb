{
 "cells": [
  {
   "cell_type": "markdown",
   "metadata": {},
   "source": [
    "# Exam\n",
    "\n",
    "Use the following table to provide us with\n",
    "\n",
    "|name | exam number|\n",
    "|----|----|\n",
    "|Leon van der Grinten|2001902|\n",
    "|Dimitri Timans|2001107|\n",
    "\n",
    "## Introduction and loading the data\n",
    "\n",
    "In this resit we will work with data about budget shares of British households. A description of the data can be found on:\n",
    "[link](https://vincentarelbundock.github.io/Rdatasets/doc/Ecdat/BudgetUK.html)\n",
    "\n",
    "You will need to load the following packages:\n",
    "dplyr\n",
    "ggplot2"
   ]
  },
  {
   "cell_type": "code",
   "execution_count": 22,
   "metadata": {
    "collapsed": false
   },
   "outputs": [],
   "source": [
    "library(ggplot2)\n",
    "library(dplyr)"
   ]
  },
  {
   "cell_type": "markdown",
   "metadata": {},
   "source": [
    "First, read in the dataset BudgetUK.csv and call the dataset \"budget\".\n"
   ]
  },
  {
   "cell_type": "code",
   "execution_count": 1,
   "metadata": {
    "collapsed": true
   },
   "outputs": [],
   "source": [
    "budget <- read.csv2('BudgetUK.csv', sep=';')"
   ]
  },
  {
   "cell_type": "markdown",
   "metadata": {},
   "source": [
    "And then look at the structure of the dataframe"
   ]
  },
  {
   "cell_type": "code",
   "execution_count": 2,
   "metadata": {
    "collapsed": false
   },
   "outputs": [
    {
     "data": {
      "text/html": [
       "<table>\n",
       "<thead><tr><th scope=col>id</th><th scope=col>wfood</th><th scope=col>wfuel</th><th scope=col>wcloth</th><th scope=col>walc</th><th scope=col>wtrans</th><th scope=col>wother</th><th scope=col>totexp</th><th scope=col>income</th><th scope=col>age</th><th scope=col>children</th></tr></thead>\n",
       "<tbody>\n",
       "\t<tr><td>1     </td><td>0.4272</td><td>0.1342</td><td>0     </td><td>0.0106</td><td>0.1458</td><td>0.2822</td><td> 50   </td><td>130   </td><td>25    </td><td>2     </td></tr>\n",
       "\t<tr><td>2     </td><td>0.3739</td><td>0.1686</td><td>0.0091</td><td>0.0825</td><td>0.1215</td><td>0.2444</td><td> 90   </td><td>150   </td><td>39    </td><td>2     </td></tr>\n",
       "\t<tr><td>3     </td><td>0.1941</td><td>0.4056</td><td>0.0012</td><td>0.0513</td><td>0.2063</td><td>0.1415</td><td>180   </td><td>230   </td><td>47    </td><td>2     </td></tr>\n",
       "\t<tr><td>4     </td><td>0.4438</td><td>0.1258</td><td>0.0539</td><td>0.0397</td><td>0.0652</td><td>0.2716</td><td> 80   </td><td>100   </td><td>33    </td><td>2     </td></tr>\n",
       "\t<tr><td>5     </td><td>0.3331</td><td>0.0824</td><td>0.0399</td><td>0.1571</td><td>0.2403</td><td>0.1473</td><td> 90   </td><td>100   </td><td>31    </td><td>1     </td></tr>\n",
       "\t<tr><td>6     </td><td>0.3752</td><td>0.0481</td><td>0.117 </td><td>0.021 </td><td>0.0955</td><td>0.3431</td><td> 70   </td><td> 70   </td><td>24    </td><td>1     </td></tr>\n",
       "</tbody>\n",
       "</table>\n"
      ],
      "text/latex": [
       "\\begin{tabular}{r|lllllllllll}\n",
       " id & wfood & wfuel & wcloth & walc & wtrans & wother & totexp & income & age & children\\\\\n",
       "\\hline\n",
       "\t 1      & 0.4272 & 0.1342 & 0      & 0.0106 & 0.1458 & 0.2822 &  50    & 130    & 25     & 2     \\\\\n",
       "\t 2      & 0.3739 & 0.1686 & 0.0091 & 0.0825 & 0.1215 & 0.2444 &  90    & 150    & 39     & 2     \\\\\n",
       "\t 3      & 0.1941 & 0.4056 & 0.0012 & 0.0513 & 0.2063 & 0.1415 & 180    & 230    & 47     & 2     \\\\\n",
       "\t 4      & 0.4438 & 0.1258 & 0.0539 & 0.0397 & 0.0652 & 0.2716 &  80    & 100    & 33     & 2     \\\\\n",
       "\t 5      & 0.3331 & 0.0824 & 0.0399 & 0.1571 & 0.2403 & 0.1473 &  90    & 100    & 31     & 1     \\\\\n",
       "\t 6      & 0.3752 & 0.0481 & 0.117  & 0.021  & 0.0955 & 0.3431 &  70    &  70    & 24     & 1     \\\\\n",
       "\\end{tabular}\n"
      ],
      "text/markdown": [
       "\n",
       "id | wfood | wfuel | wcloth | walc | wtrans | wother | totexp | income | age | children | \n",
       "|---|---|---|---|---|---|\n",
       "| 1      | 0.4272 | 0.1342 | 0      | 0.0106 | 0.1458 | 0.2822 |  50    | 130    | 25     | 2      | \n",
       "| 2      | 0.3739 | 0.1686 | 0.0091 | 0.0825 | 0.1215 | 0.2444 |  90    | 150    | 39     | 2      | \n",
       "| 3      | 0.1941 | 0.4056 | 0.0012 | 0.0513 | 0.2063 | 0.1415 | 180    | 230    | 47     | 2      | \n",
       "| 4      | 0.4438 | 0.1258 | 0.0539 | 0.0397 | 0.0652 | 0.2716 |  80    | 100    | 33     | 2      | \n",
       "| 5      | 0.3331 | 0.0824 | 0.0399 | 0.1571 | 0.2403 | 0.1473 |  90    | 100    | 31     | 1      | \n",
       "| 6      | 0.3752 | 0.0481 | 0.117  | 0.021  | 0.0955 | 0.3431 |  70    |  70    | 24     | 1      | \n",
       "\n",
       "\n"
      ],
      "text/plain": [
       "  id wfood  wfuel  wcloth walc   wtrans wother totexp income age children\n",
       "1 1  0.4272 0.1342 0      0.0106 0.1458 0.2822  50    130    25  2       \n",
       "2 2  0.3739 0.1686 0.0091 0.0825 0.1215 0.2444  90    150    39  2       \n",
       "3 3  0.1941 0.4056 0.0012 0.0513 0.2063 0.1415 180    230    47  2       \n",
       "4 4  0.4438 0.1258 0.0539 0.0397 0.0652 0.2716  80    100    33  2       \n",
       "5 5  0.3331 0.0824 0.0399 0.1571 0.2403 0.1473  90    100    31  1       \n",
       "6 6  0.3752 0.0481 0.117  0.021  0.0955 0.3431  70     70    24  1       "
      ]
     },
     "metadata": {},
     "output_type": "display_data"
    }
   ],
   "source": [
    "head(budget)"
   ]
  },
  {
   "cell_type": "markdown",
   "metadata": {},
   "source": [
    "Please convert all variables to numeric ones, except ID and children\n",
    "Please note that if you convert \"factors\" into numerical variables, things go wrong. That is because R converts the \"level\" of the factor to an integer. So, if we want to convert factors to numerics we will use:\n",
    "as.numeric(as.character). See this example:\n"
   ]
  },
  {
   "cell_type": "code",
   "execution_count": 3,
   "metadata": {
    "collapsed": true
   },
   "outputs": [],
   "source": [
    "budget$wfood <- as.numeric(as.character(budget$wfood))"
   ]
  },
  {
   "cell_type": "markdown",
   "metadata": {},
   "source": [
    "Please change the variables and you should convert the variable \"children\" in a factor"
   ]
  },
  {
   "cell_type": "code",
   "execution_count": 17,
   "metadata": {
    "collapsed": false
   },
   "outputs": [],
   "source": [
    "budget$wfuel <- as.numeric(as.character(budget$wfuel))\n",
    "budget$wcloth <- as.numeric(as.character(budget$wcloth))\n",
    "budget$walc <- as.numeric(as.character(budget$walc))\n",
    "budget$wtrans <- as.numeric(as.character(budget$wtrans))\n",
    "budget$wother <- as.numeric(as.character(budget$wother))\n",
    "budget$totexp <- as.numeric(as.character(budget$totexp))\n",
    "budget$income <- as.numeric(as.character(budget$income))\n",
    "budget$age <- as.numeric(as.character(budget$age))\n",
    "budget$children <- factor(budget$children)"
   ]
  },
  {
   "cell_type": "markdown",
   "metadata": {},
   "source": [
    "Now, you will need to make a new dataframe called \"budget1\" based on the dataframe \"budget\" and then add a column with the name \"totalbudget\" which is the sum of wfood, wfuel, wcloth, walc, wtrans and wother."
   ]
  },
  {
   "cell_type": "code",
   "execution_count": 18,
   "metadata": {
    "collapsed": true
   },
   "outputs": [],
   "source": [
    "budget1 <- budget\n",
    "budget1$Totalbudget <- budget$wfood + budget$wfuel + budget$wcloth + budget$walc + budget$wtrans + budget$wother\n",
    "budget1$table <- 1"
   ]
  },
  {
   "cell_type": "code",
   "execution_count": 19,
   "metadata": {
    "collapsed": false
   },
   "outputs": [
    {
     "data": {
      "text/html": [
       "<table>\n",
       "<thead><tr><th scope=col>id</th><th scope=col>wfood</th><th scope=col>wfuel</th><th scope=col>wcloth</th><th scope=col>walc</th><th scope=col>wtrans</th><th scope=col>wother</th><th scope=col>totexp</th><th scope=col>income</th><th scope=col>age</th><th scope=col>children</th><th scope=col>Totalbudget</th><th scope=col>table</th></tr></thead>\n",
       "<tbody>\n",
       "\t<tr><td>1     </td><td>0.4272</td><td>0.1342</td><td>0.0000</td><td>0.0106</td><td>0.1458</td><td>0.2822</td><td> 50   </td><td>130   </td><td>25    </td><td>2     </td><td>1.0000</td><td>1     </td></tr>\n",
       "\t<tr><td>2     </td><td>0.3739</td><td>0.1686</td><td>0.0091</td><td>0.0825</td><td>0.1215</td><td>0.2444</td><td> 90   </td><td>150   </td><td>39    </td><td>2     </td><td>1.0000</td><td>1     </td></tr>\n",
       "\t<tr><td>3     </td><td>0.1941</td><td>0.4056</td><td>0.0012</td><td>0.0513</td><td>0.2063</td><td>0.1415</td><td>180   </td><td>230   </td><td>47    </td><td>2     </td><td>1.0000</td><td>1     </td></tr>\n",
       "\t<tr><td>4     </td><td>0.4438</td><td>0.1258</td><td>0.0539</td><td>0.0397</td><td>0.0652</td><td>0.2716</td><td> 80   </td><td>100   </td><td>33    </td><td>2     </td><td>1.0000</td><td>1     </td></tr>\n",
       "\t<tr><td>5     </td><td>0.3331</td><td>0.0824</td><td>0.0399</td><td>0.1571</td><td>0.2403</td><td>0.1473</td><td> 90   </td><td>100   </td><td>31    </td><td>1     </td><td>1.0001</td><td>1     </td></tr>\n",
       "\t<tr><td>6     </td><td>0.3752</td><td>0.0481</td><td>0.1170</td><td>0.0210</td><td>0.0955</td><td>0.3431</td><td> 70   </td><td> 70   </td><td>24    </td><td>1     </td><td>0.9999</td><td>1     </td></tr>\n",
       "</tbody>\n",
       "</table>\n"
      ],
      "text/latex": [
       "\\begin{tabular}{r|lllllllllllll}\n",
       " id & wfood & wfuel & wcloth & walc & wtrans & wother & totexp & income & age & children & Totalbudget & table\\\\\n",
       "\\hline\n",
       "\t 1      & 0.4272 & 0.1342 & 0.0000 & 0.0106 & 0.1458 & 0.2822 &  50    & 130    & 25     & 2      & 1.0000 & 1     \\\\\n",
       "\t 2      & 0.3739 & 0.1686 & 0.0091 & 0.0825 & 0.1215 & 0.2444 &  90    & 150    & 39     & 2      & 1.0000 & 1     \\\\\n",
       "\t 3      & 0.1941 & 0.4056 & 0.0012 & 0.0513 & 0.2063 & 0.1415 & 180    & 230    & 47     & 2      & 1.0000 & 1     \\\\\n",
       "\t 4      & 0.4438 & 0.1258 & 0.0539 & 0.0397 & 0.0652 & 0.2716 &  80    & 100    & 33     & 2      & 1.0000 & 1     \\\\\n",
       "\t 5      & 0.3331 & 0.0824 & 0.0399 & 0.1571 & 0.2403 & 0.1473 &  90    & 100    & 31     & 1      & 1.0001 & 1     \\\\\n",
       "\t 6      & 0.3752 & 0.0481 & 0.1170 & 0.0210 & 0.0955 & 0.3431 &  70    &  70    & 24     & 1      & 0.9999 & 1     \\\\\n",
       "\\end{tabular}\n"
      ],
      "text/markdown": [
       "\n",
       "id | wfood | wfuel | wcloth | walc | wtrans | wother | totexp | income | age | children | Totalbudget | table | \n",
       "|---|---|---|---|---|---|\n",
       "| 1      | 0.4272 | 0.1342 | 0.0000 | 0.0106 | 0.1458 | 0.2822 |  50    | 130    | 25     | 2      | 1.0000 | 1      | \n",
       "| 2      | 0.3739 | 0.1686 | 0.0091 | 0.0825 | 0.1215 | 0.2444 |  90    | 150    | 39     | 2      | 1.0000 | 1      | \n",
       "| 3      | 0.1941 | 0.4056 | 0.0012 | 0.0513 | 0.2063 | 0.1415 | 180    | 230    | 47     | 2      | 1.0000 | 1      | \n",
       "| 4      | 0.4438 | 0.1258 | 0.0539 | 0.0397 | 0.0652 | 0.2716 |  80    | 100    | 33     | 2      | 1.0000 | 1      | \n",
       "| 5      | 0.3331 | 0.0824 | 0.0399 | 0.1571 | 0.2403 | 0.1473 |  90    | 100    | 31     | 1      | 1.0001 | 1      | \n",
       "| 6      | 0.3752 | 0.0481 | 0.1170 | 0.0210 | 0.0955 | 0.3431 |  70    |  70    | 24     | 1      | 0.9999 | 1      | \n",
       "\n",
       "\n"
      ],
      "text/plain": [
       "  id wfood  wfuel  wcloth walc   wtrans wother totexp income age children\n",
       "1 1  0.4272 0.1342 0.0000 0.0106 0.1458 0.2822  50    130    25  2       \n",
       "2 2  0.3739 0.1686 0.0091 0.0825 0.1215 0.2444  90    150    39  2       \n",
       "3 3  0.1941 0.4056 0.0012 0.0513 0.2063 0.1415 180    230    47  2       \n",
       "4 4  0.4438 0.1258 0.0539 0.0397 0.0652 0.2716  80    100    33  2       \n",
       "5 5  0.3331 0.0824 0.0399 0.1571 0.2403 0.1473  90    100    31  1       \n",
       "6 6  0.3752 0.0481 0.1170 0.0210 0.0955 0.3431  70     70    24  1       \n",
       "  Totalbudget table\n",
       "1 1.0000      1    \n",
       "2 1.0000      1    \n",
       "3 1.0000      1    \n",
       "4 1.0000      1    \n",
       "5 1.0001      1    \n",
       "6 0.9999      1    "
      ]
     },
     "metadata": {},
     "output_type": "display_data"
    }
   ],
   "source": [
    "head(budget1)"
   ]
  },
  {
   "cell_type": "markdown",
   "metadata": {},
   "source": [
    "## Graphs:\n",
    "\n",
    "First make a scatterplot with wcloth on the x-axis, wfood on the y-axis and give a different color for the different numbers of children. PLease add regression lines and confidence intervals. \n",
    "For extra points:\n",
    "Change the title for the x-axis in \"share of budget for clothing\" and the y-axis in \"Share of budget for food\".\n"
   ]
  },
  {
   "cell_type": "code",
   "execution_count": 23,
   "metadata": {
    "collapsed": false
   },
   "outputs": [
    {
     "data": {
      "text/html": [
       "<table>\n",
       "<thead><tr><th scope=col>wcloth</th><th scope=col>wfood</th><th scope=col>children</th><th scope=col>table</th></tr></thead>\n",
       "<tbody>\n",
       "\t<tr><td>0.0000</td><td>0.4272</td><td>2     </td><td>1     </td></tr>\n",
       "\t<tr><td>0.0091</td><td>0.3739</td><td>2     </td><td>1     </td></tr>\n",
       "\t<tr><td>0.0012</td><td>0.1941</td><td>2     </td><td>1     </td></tr>\n",
       "\t<tr><td>0.0539</td><td>0.4438</td><td>2     </td><td>1     </td></tr>\n",
       "\t<tr><td>0.0399</td><td>0.3331</td><td>1     </td><td>1     </td></tr>\n",
       "\t<tr><td>0.1170</td><td>0.3752</td><td>1     </td><td>1     </td></tr>\n",
       "\t<tr><td>0.0453</td><td>0.2568</td><td>1     </td><td>1     </td></tr>\n",
       "\t<tr><td>0.1131</td><td>0.4533</td><td>1     </td><td>1     </td></tr>\n",
       "\t<tr><td>0.1671</td><td>0.3279</td><td>1     </td><td>1     </td></tr>\n",
       "\t<tr><td>0.0230</td><td>0.4608</td><td>1     </td><td>1     </td></tr>\n",
       "\t<tr><td>0.2547</td><td>0.3447</td><td>2     </td><td>1     </td></tr>\n",
       "\t<tr><td>0.1617</td><td>0.4491</td><td>1     </td><td>1     </td></tr>\n",
       "\t<tr><td>0.0018</td><td>0.4439</td><td>2     </td><td>1     </td></tr>\n",
       "\t<tr><td>0.0728</td><td>0.2090</td><td>2     </td><td>1     </td></tr>\n",
       "\t<tr><td>0.2010</td><td>0.2706</td><td>1     </td><td>1     </td></tr>\n",
       "\t<tr><td>0.0501</td><td>0.5536</td><td>2     </td><td>1     </td></tr>\n",
       "\t<tr><td>0.0722</td><td>0.5195</td><td>2     </td><td>1     </td></tr>\n",
       "\t<tr><td>0.0727</td><td>0.2396</td><td>2     </td><td>1     </td></tr>\n",
       "\t<tr><td>0.1511</td><td>0.2846</td><td>1     </td><td>1     </td></tr>\n",
       "\t<tr><td>0.0454</td><td>0.3472</td><td>1     </td><td>1     </td></tr>\n",
       "\t<tr><td>0.0931</td><td>0.4715</td><td>1     </td><td>1     </td></tr>\n",
       "\t<tr><td>0.0246</td><td>0.3284</td><td>1     </td><td>1     </td></tr>\n",
       "\t<tr><td>0.0506</td><td>0.4574</td><td>2     </td><td>1     </td></tr>\n",
       "\t<tr><td>0.1451</td><td>0.3102</td><td>1     </td><td>1     </td></tr>\n",
       "\t<tr><td>0.0054</td><td>0.3429</td><td>2     </td><td>1     </td></tr>\n",
       "\t<tr><td>0.0180</td><td>0.1851</td><td>2     </td><td>1     </td></tr>\n",
       "\t<tr><td>0.2388</td><td>0.4079</td><td>2     </td><td>1     </td></tr>\n",
       "\t<tr><td>0.0392</td><td>0.5911</td><td>2     </td><td>1     </td></tr>\n",
       "\t<tr><td>0.0788</td><td>0.4152</td><td>2     </td><td>1     </td></tr>\n",
       "\t<tr><td>0.3875</td><td>0.3459</td><td>1     </td><td>1     </td></tr>\n",
       "\t<tr><td>...</td><td>...</td><td>...</td><td>...</td></tr>\n",
       "\t<tr><td>0.3352</td><td>0.1563</td><td>1     </td><td>1     </td></tr>\n",
       "\t<tr><td>0.1821</td><td>0.2415</td><td>2     </td><td>1     </td></tr>\n",
       "\t<tr><td>0.0310</td><td>0.4625</td><td>2     </td><td>1     </td></tr>\n",
       "\t<tr><td>0.1103</td><td>0.3742</td><td>2     </td><td>1     </td></tr>\n",
       "\t<tr><td>0.1106</td><td>0.4560</td><td>2     </td><td>1     </td></tr>\n",
       "\t<tr><td>0.1131</td><td>0.2331</td><td>2     </td><td>1     </td></tr>\n",
       "\t<tr><td>0.1292</td><td>0.2567</td><td>1     </td><td>1     </td></tr>\n",
       "\t<tr><td>0.2737</td><td>0.3401</td><td>2     </td><td>1     </td></tr>\n",
       "\t<tr><td>0.0000</td><td>0.4445</td><td>2     </td><td>1     </td></tr>\n",
       "\t<tr><td>0.0346</td><td>0.3882</td><td>2     </td><td>1     </td></tr>\n",
       "\t<tr><td>0.1544</td><td>0.3460</td><td>2     </td><td>1     </td></tr>\n",
       "\t<tr><td>0.0674</td><td>0.3904</td><td>2     </td><td>1     </td></tr>\n",
       "\t<tr><td>0.0430</td><td>0.4719</td><td>2     </td><td>1     </td></tr>\n",
       "\t<tr><td>0.0119</td><td>0.2555</td><td>2     </td><td>1     </td></tr>\n",
       "\t<tr><td>0.0726</td><td>0.5301</td><td>2     </td><td>1     </td></tr>\n",
       "\t<tr><td>0.0114</td><td>0.3876</td><td>2     </td><td>1     </td></tr>\n",
       "\t<tr><td>0.3681</td><td>0.1623</td><td>1     </td><td>1     </td></tr>\n",
       "\t<tr><td>0.1715</td><td>0.3336</td><td>2     </td><td>1     </td></tr>\n",
       "\t<tr><td>0.0315</td><td>0.0571</td><td>1     </td><td>1     </td></tr>\n",
       "\t<tr><td>0.0089</td><td>0.4226</td><td>1     </td><td>1     </td></tr>\n",
       "\t<tr><td>0.0402</td><td>0.4048</td><td>2     </td><td>1     </td></tr>\n",
       "\t<tr><td>0.1740</td><td>0.2544</td><td>1     </td><td>1     </td></tr>\n",
       "\t<tr><td>0.0899</td><td>0.5297</td><td>1     </td><td>1     </td></tr>\n",
       "\t<tr><td>0.2391</td><td>0.2849</td><td>2     </td><td>1     </td></tr>\n",
       "\t<tr><td>0.0000</td><td>0.6218</td><td>1     </td><td>1     </td></tr>\n",
       "\t<tr><td>0.0054</td><td>0.4106</td><td>2     </td><td>1     </td></tr>\n",
       "\t<tr><td>0.0176</td><td>0.2787</td><td>2     </td><td>1     </td></tr>\n",
       "\t<tr><td>0.2566</td><td>0.3298</td><td>2     </td><td>1     </td></tr>\n",
       "\t<tr><td>0.0787</td><td>0.6061</td><td>2     </td><td>1     </td></tr>\n",
       "\t<tr><td>0.1279</td><td>0.1885</td><td>1     </td><td>1     </td></tr>\n",
       "</tbody>\n",
       "</table>\n"
      ],
      "text/latex": [
       "\\begin{tabular}{r|llll}\n",
       " wcloth & wfood & children & table\\\\\n",
       "\\hline\n",
       "\t 0.0000 & 0.4272 & 2      & 1     \\\\\n",
       "\t 0.0091 & 0.3739 & 2      & 1     \\\\\n",
       "\t 0.0012 & 0.1941 & 2      & 1     \\\\\n",
       "\t 0.0539 & 0.4438 & 2      & 1     \\\\\n",
       "\t 0.0399 & 0.3331 & 1      & 1     \\\\\n",
       "\t 0.1170 & 0.3752 & 1      & 1     \\\\\n",
       "\t 0.0453 & 0.2568 & 1      & 1     \\\\\n",
       "\t 0.1131 & 0.4533 & 1      & 1     \\\\\n",
       "\t 0.1671 & 0.3279 & 1      & 1     \\\\\n",
       "\t 0.0230 & 0.4608 & 1      & 1     \\\\\n",
       "\t 0.2547 & 0.3447 & 2      & 1     \\\\\n",
       "\t 0.1617 & 0.4491 & 1      & 1     \\\\\n",
       "\t 0.0018 & 0.4439 & 2      & 1     \\\\\n",
       "\t 0.0728 & 0.2090 & 2      & 1     \\\\\n",
       "\t 0.2010 & 0.2706 & 1      & 1     \\\\\n",
       "\t 0.0501 & 0.5536 & 2      & 1     \\\\\n",
       "\t 0.0722 & 0.5195 & 2      & 1     \\\\\n",
       "\t 0.0727 & 0.2396 & 2      & 1     \\\\\n",
       "\t 0.1511 & 0.2846 & 1      & 1     \\\\\n",
       "\t 0.0454 & 0.3472 & 1      & 1     \\\\\n",
       "\t 0.0931 & 0.4715 & 1      & 1     \\\\\n",
       "\t 0.0246 & 0.3284 & 1      & 1     \\\\\n",
       "\t 0.0506 & 0.4574 & 2      & 1     \\\\\n",
       "\t 0.1451 & 0.3102 & 1      & 1     \\\\\n",
       "\t 0.0054 & 0.3429 & 2      & 1     \\\\\n",
       "\t 0.0180 & 0.1851 & 2      & 1     \\\\\n",
       "\t 0.2388 & 0.4079 & 2      & 1     \\\\\n",
       "\t 0.0392 & 0.5911 & 2      & 1     \\\\\n",
       "\t 0.0788 & 0.4152 & 2      & 1     \\\\\n",
       "\t 0.3875 & 0.3459 & 1      & 1     \\\\\n",
       "\t ... & ... & ... & ...\\\\\n",
       "\t 0.3352 & 0.1563 & 1      & 1     \\\\\n",
       "\t 0.1821 & 0.2415 & 2      & 1     \\\\\n",
       "\t 0.0310 & 0.4625 & 2      & 1     \\\\\n",
       "\t 0.1103 & 0.3742 & 2      & 1     \\\\\n",
       "\t 0.1106 & 0.4560 & 2      & 1     \\\\\n",
       "\t 0.1131 & 0.2331 & 2      & 1     \\\\\n",
       "\t 0.1292 & 0.2567 & 1      & 1     \\\\\n",
       "\t 0.2737 & 0.3401 & 2      & 1     \\\\\n",
       "\t 0.0000 & 0.4445 & 2      & 1     \\\\\n",
       "\t 0.0346 & 0.3882 & 2      & 1     \\\\\n",
       "\t 0.1544 & 0.3460 & 2      & 1     \\\\\n",
       "\t 0.0674 & 0.3904 & 2      & 1     \\\\\n",
       "\t 0.0430 & 0.4719 & 2      & 1     \\\\\n",
       "\t 0.0119 & 0.2555 & 2      & 1     \\\\\n",
       "\t 0.0726 & 0.5301 & 2      & 1     \\\\\n",
       "\t 0.0114 & 0.3876 & 2      & 1     \\\\\n",
       "\t 0.3681 & 0.1623 & 1      & 1     \\\\\n",
       "\t 0.1715 & 0.3336 & 2      & 1     \\\\\n",
       "\t 0.0315 & 0.0571 & 1      & 1     \\\\\n",
       "\t 0.0089 & 0.4226 & 1      & 1     \\\\\n",
       "\t 0.0402 & 0.4048 & 2      & 1     \\\\\n",
       "\t 0.1740 & 0.2544 & 1      & 1     \\\\\n",
       "\t 0.0899 & 0.5297 & 1      & 1     \\\\\n",
       "\t 0.2391 & 0.2849 & 2      & 1     \\\\\n",
       "\t 0.0000 & 0.6218 & 1      & 1     \\\\\n",
       "\t 0.0054 & 0.4106 & 2      & 1     \\\\\n",
       "\t 0.0176 & 0.2787 & 2      & 1     \\\\\n",
       "\t 0.2566 & 0.3298 & 2      & 1     \\\\\n",
       "\t 0.0787 & 0.6061 & 2      & 1     \\\\\n",
       "\t 0.1279 & 0.1885 & 1      & 1     \\\\\n",
       "\\end{tabular}\n"
      ],
      "text/markdown": [
       "\n",
       "wcloth | wfood | children | table | \n",
       "|---|---|---|---|---|---|---|---|---|---|---|---|---|---|---|---|---|---|---|---|---|---|---|---|---|---|---|---|---|---|---|---|---|---|---|---|---|---|---|---|---|---|---|---|---|---|---|---|---|---|---|---|---|---|---|---|---|---|---|---|---|\n",
       "| 0.0000 | 0.4272 | 2      | 1      | \n",
       "| 0.0091 | 0.3739 | 2      | 1      | \n",
       "| 0.0012 | 0.1941 | 2      | 1      | \n",
       "| 0.0539 | 0.4438 | 2      | 1      | \n",
       "| 0.0399 | 0.3331 | 1      | 1      | \n",
       "| 0.1170 | 0.3752 | 1      | 1      | \n",
       "| 0.0453 | 0.2568 | 1      | 1      | \n",
       "| 0.1131 | 0.4533 | 1      | 1      | \n",
       "| 0.1671 | 0.3279 | 1      | 1      | \n",
       "| 0.0230 | 0.4608 | 1      | 1      | \n",
       "| 0.2547 | 0.3447 | 2      | 1      | \n",
       "| 0.1617 | 0.4491 | 1      | 1      | \n",
       "| 0.0018 | 0.4439 | 2      | 1      | \n",
       "| 0.0728 | 0.2090 | 2      | 1      | \n",
       "| 0.2010 | 0.2706 | 1      | 1      | \n",
       "| 0.0501 | 0.5536 | 2      | 1      | \n",
       "| 0.0722 | 0.5195 | 2      | 1      | \n",
       "| 0.0727 | 0.2396 | 2      | 1      | \n",
       "| 0.1511 | 0.2846 | 1      | 1      | \n",
       "| 0.0454 | 0.3472 | 1      | 1      | \n",
       "| 0.0931 | 0.4715 | 1      | 1      | \n",
       "| 0.0246 | 0.3284 | 1      | 1      | \n",
       "| 0.0506 | 0.4574 | 2      | 1      | \n",
       "| 0.1451 | 0.3102 | 1      | 1      | \n",
       "| 0.0054 | 0.3429 | 2      | 1      | \n",
       "| 0.0180 | 0.1851 | 2      | 1      | \n",
       "| 0.2388 | 0.4079 | 2      | 1      | \n",
       "| 0.0392 | 0.5911 | 2      | 1      | \n",
       "| 0.0788 | 0.4152 | 2      | 1      | \n",
       "| 0.3875 | 0.3459 | 1      | 1      | \n",
       "| ... | ... | ... | ... | \n",
       "| 0.3352 | 0.1563 | 1      | 1      | \n",
       "| 0.1821 | 0.2415 | 2      | 1      | \n",
       "| 0.0310 | 0.4625 | 2      | 1      | \n",
       "| 0.1103 | 0.3742 | 2      | 1      | \n",
       "| 0.1106 | 0.4560 | 2      | 1      | \n",
       "| 0.1131 | 0.2331 | 2      | 1      | \n",
       "| 0.1292 | 0.2567 | 1      | 1      | \n",
       "| 0.2737 | 0.3401 | 2      | 1      | \n",
       "| 0.0000 | 0.4445 | 2      | 1      | \n",
       "| 0.0346 | 0.3882 | 2      | 1      | \n",
       "| 0.1544 | 0.3460 | 2      | 1      | \n",
       "| 0.0674 | 0.3904 | 2      | 1      | \n",
       "| 0.0430 | 0.4719 | 2      | 1      | \n",
       "| 0.0119 | 0.2555 | 2      | 1      | \n",
       "| 0.0726 | 0.5301 | 2      | 1      | \n",
       "| 0.0114 | 0.3876 | 2      | 1      | \n",
       "| 0.3681 | 0.1623 | 1      | 1      | \n",
       "| 0.1715 | 0.3336 | 2      | 1      | \n",
       "| 0.0315 | 0.0571 | 1      | 1      | \n",
       "| 0.0089 | 0.4226 | 1      | 1      | \n",
       "| 0.0402 | 0.4048 | 2      | 1      | \n",
       "| 0.1740 | 0.2544 | 1      | 1      | \n",
       "| 0.0899 | 0.5297 | 1      | 1      | \n",
       "| 0.2391 | 0.2849 | 2      | 1      | \n",
       "| 0.0000 | 0.6218 | 1      | 1      | \n",
       "| 0.0054 | 0.4106 | 2      | 1      | \n",
       "| 0.0176 | 0.2787 | 2      | 1      | \n",
       "| 0.2566 | 0.3298 | 2      | 1      | \n",
       "| 0.0787 | 0.6061 | 2      | 1      | \n",
       "| 0.1279 | 0.1885 | 1      | 1      | \n",
       "\n",
       "\n"
      ],
      "text/plain": [
       "     wcloth wfood  children table\n",
       "1    0.0000 0.4272 2        1    \n",
       "2    0.0091 0.3739 2        1    \n",
       "3    0.0012 0.1941 2        1    \n",
       "4    0.0539 0.4438 2        1    \n",
       "5    0.0399 0.3331 1        1    \n",
       "6    0.1170 0.3752 1        1    \n",
       "7    0.0453 0.2568 1        1    \n",
       "8    0.1131 0.4533 1        1    \n",
       "9    0.1671 0.3279 1        1    \n",
       "10   0.0230 0.4608 1        1    \n",
       "11   0.2547 0.3447 2        1    \n",
       "12   0.1617 0.4491 1        1    \n",
       "13   0.0018 0.4439 2        1    \n",
       "14   0.0728 0.2090 2        1    \n",
       "15   0.2010 0.2706 1        1    \n",
       "16   0.0501 0.5536 2        1    \n",
       "17   0.0722 0.5195 2        1    \n",
       "18   0.0727 0.2396 2        1    \n",
       "19   0.1511 0.2846 1        1    \n",
       "20   0.0454 0.3472 1        1    \n",
       "21   0.0931 0.4715 1        1    \n",
       "22   0.0246 0.3284 1        1    \n",
       "23   0.0506 0.4574 2        1    \n",
       "24   0.1451 0.3102 1        1    \n",
       "25   0.0054 0.3429 2        1    \n",
       "26   0.0180 0.1851 2        1    \n",
       "27   0.2388 0.4079 2        1    \n",
       "28   0.0392 0.5911 2        1    \n",
       "29   0.0788 0.4152 2        1    \n",
       "30   0.3875 0.3459 1        1    \n",
       "...  ...    ...    ...      ...  \n",
       "1490 0.3352 0.1563 1        1    \n",
       "1491 0.1821 0.2415 2        1    \n",
       "1492 0.0310 0.4625 2        1    \n",
       "1493 0.1103 0.3742 2        1    \n",
       "1494 0.1106 0.4560 2        1    \n",
       "1495 0.1131 0.2331 2        1    \n",
       "1496 0.1292 0.2567 1        1    \n",
       "1497 0.2737 0.3401 2        1    \n",
       "1498 0.0000 0.4445 2        1    \n",
       "1499 0.0346 0.3882 2        1    \n",
       "1500 0.1544 0.3460 2        1    \n",
       "1501 0.0674 0.3904 2        1    \n",
       "1502 0.0430 0.4719 2        1    \n",
       "1503 0.0119 0.2555 2        1    \n",
       "1504 0.0726 0.5301 2        1    \n",
       "1505 0.0114 0.3876 2        1    \n",
       "1506 0.3681 0.1623 1        1    \n",
       "1507 0.1715 0.3336 2        1    \n",
       "1508 0.0315 0.0571 1        1    \n",
       "1509 0.0089 0.4226 1        1    \n",
       "1510 0.0402 0.4048 2        1    \n",
       "1511 0.1740 0.2544 1        1    \n",
       "1512 0.0899 0.5297 1        1    \n",
       "1513 0.2391 0.2849 2        1    \n",
       "1514 0.0000 0.6218 1        1    \n",
       "1515 0.0054 0.4106 2        1    \n",
       "1516 0.0176 0.2787 2        1    \n",
       "1517 0.2566 0.3298 2        1    \n",
       "1518 0.0787 0.6061 2        1    \n",
       "1519 0.1279 0.1885 1        1    "
      ]
     },
     "metadata": {},
     "output_type": "display_data"
    }
   ],
   "source": [
    "graph1 <- data.frame(budget1) %>%\n",
    "    select(wcloth, wfood, children, table) %>%\n",
    "    filter(table==1)\n",
    "graph1\n"
   ]
  },
  {
   "cell_type": "code",
   "execution_count": 86,
   "metadata": {
    "collapsed": false
   },
   "outputs": [
    {
     "name": "stderr",
     "output_type": "stream",
     "text": [
      "Warning message:\n",
      "\"Removed 1 rows containing non-finite values (stat_smooth).\"Warning message:\n",
      "\"Removed 1 rows containing missing values (geom_point).\""
     ]
    },
    {
     "data": {},
     "metadata": {},
     "output_type": "display_data"
    },
    {
     "data": {
      "image/png": "[encoded data removed]",
      "text/plain": [
       "plot without title"
      ]
     },
     "metadata": {},
     "output_type": "display_data"
    }
   ],
   "source": [
    "ggplot(graph1, aes(x=wcloth, y=wfood)) + \n",
    "geom_point(shape = 1) + geom_smooth(method=\"lm\", col = \"red\") + \n",
    "xlab(\"share of budget for clothing\") + ylab(\"Share of budget for food\")"
   ]
  },
  {
   "cell_type": "markdown",
   "metadata": {},
   "source": [
    "We should make a second graph. You should make a bar chart with age on the x-axis and wfood on the y-axis. Give different colors for the number of children. The graph should be \"stacked\" (bars on top of each other). You can extra points if you can change the colors to red and blue."
   ]
  },
  {
   "cell_type": "code",
   "execution_count": 35,
   "metadata": {
    "collapsed": false
   },
   "outputs": [
    {
     "data": {
      "image/png": "[encoded data removed]",
      "text/plain": [
       "Plot with title \"wfood and age\""
      ]
     },
     "metadata": {},
     "output_type": "display_data"
    }
   ],
   "source": [
    "counts <- table(budget1$children, budget1$age)\n",
    "barplot(counts, main=\"wfood and age\",\n",
    "  xlab=\"age\", ylab=\"wfood\", col=c(\"darkblue\",\"red\"),\n",
    " \tlegend = rownames(counts))"
   ]
  },
  {
   "cell_type": "markdown",
   "metadata": {},
   "source": [
    "## Extra points:\n",
    "\n",
    "You can earn extra points you are able to produce a dataframe with the observations of which the totalbudget is not nearly 1. As you might have observed, there are a few NA's is the dataset. \n",
    "First set the NA's in the dataset to 0.\n",
    "Then, You should round the numbers first with zero decimals and then convert them into integers.\n",
    "\n",
    "Finally make a dataframe \"warning\" with observations that have a totalbudget that is not equal to 1 and show the dataframe with the command warning."
   ]
  },
  {
   "cell_type": "code",
   "execution_count": null,
   "metadata": {
    "collapsed": false
   },
   "outputs": [],
   "source": []
  },
  {
   "cell_type": "code",
   "execution_count": 26,
   "metadata": {
    "collapsed": false
   },
   "outputs": [
    {
     "data": {
      "text/html": [
       "24"
      ],
      "text/latex": [
       "24"
      ],
      "text/markdown": [
       "24"
      ],
      "text/plain": [
       "[1] 24"
      ]
     },
     "metadata": {},
     "output_type": "display_data"
    }
   ],
   "source": [
    "sum(is.na(budget1))"
   ]
  },
  {
   "cell_type": "code",
   "execution_count": 27,
   "metadata": {
    "collapsed": true
   },
   "outputs": [],
   "source": [
    "budget1[ is.na(budget1) ] <- 0"
   ]
  },
  {
   "cell_type": "code",
   "execution_count": 29,
   "metadata": {
    "collapsed": false
   },
   "outputs": [],
   "source": [
    "options(digits=0)"
   ]
  },
  {
   "cell_type": "code",
   "execution_count": 30,
   "metadata": {
    "collapsed": false
   },
   "outputs": [
    {
     "data": {
      "text/html": [
       "<table>\n",
       "<thead><tr><th scope=col>id</th><th scope=col>wfood</th><th scope=col>wfuel</th><th scope=col>wcloth</th><th scope=col>walc</th><th scope=col>wtrans</th><th scope=col>wother</th><th scope=col>totexp</th><th scope=col>income</th><th scope=col>age</th><th scope=col>children</th><th scope=col>Totalbudget</th><th scope=col>table</th></tr></thead>\n",
       "<tbody>\n",
       "\t<tr><td>1  </td><td>0  </td><td>0  </td><td>0  </td><td>0  </td><td>0  </td><td>0  </td><td> 50</td><td>130</td><td>25 </td><td>2  </td><td>1  </td><td>1  </td></tr>\n",
       "\t<tr><td>2  </td><td>0  </td><td>0  </td><td>0  </td><td>0  </td><td>0  </td><td>0  </td><td> 90</td><td>150</td><td>39 </td><td>2  </td><td>1  </td><td>1  </td></tr>\n",
       "\t<tr><td>3  </td><td>0  </td><td>0  </td><td>0  </td><td>0  </td><td>0  </td><td>0  </td><td>180</td><td>230</td><td>47 </td><td>2  </td><td>1  </td><td>1  </td></tr>\n",
       "\t<tr><td>4  </td><td>0  </td><td>0  </td><td>0  </td><td>0  </td><td>0  </td><td>0  </td><td> 80</td><td>100</td><td>33 </td><td>2  </td><td>1  </td><td>1  </td></tr>\n",
       "\t<tr><td>5  </td><td>0  </td><td>0  </td><td>0  </td><td>0  </td><td>0  </td><td>0  </td><td> 90</td><td>100</td><td>31 </td><td>1  </td><td>1  </td><td>1  </td></tr>\n",
       "\t<tr><td>6  </td><td>0  </td><td>0  </td><td>0  </td><td>0  </td><td>0  </td><td>0  </td><td> 70</td><td> 70</td><td>24 </td><td>1  </td><td>1  </td><td>1  </td></tr>\n",
       "</tbody>\n",
       "</table>\n"
      ],
      "text/latex": [
       "\\begin{tabular}{r|lllllllllllll}\n",
       " id & wfood & wfuel & wcloth & walc & wtrans & wother & totexp & income & age & children & Totalbudget & table\\\\\n",
       "\\hline\n",
       "\t 1   & 0   & 0   & 0   & 0   & 0   & 0   &  50 & 130 & 25  & 2   & 1   & 1  \\\\\n",
       "\t 2   & 0   & 0   & 0   & 0   & 0   & 0   &  90 & 150 & 39  & 2   & 1   & 1  \\\\\n",
       "\t 3   & 0   & 0   & 0   & 0   & 0   & 0   & 180 & 230 & 47  & 2   & 1   & 1  \\\\\n",
       "\t 4   & 0   & 0   & 0   & 0   & 0   & 0   &  80 & 100 & 33  & 2   & 1   & 1  \\\\\n",
       "\t 5   & 0   & 0   & 0   & 0   & 0   & 0   &  90 & 100 & 31  & 1   & 1   & 1  \\\\\n",
       "\t 6   & 0   & 0   & 0   & 0   & 0   & 0   &  70 &  70 & 24  & 1   & 1   & 1  \\\\\n",
       "\\end{tabular}\n"
      ],
      "text/markdown": [
       "\n",
       "id | wfood | wfuel | wcloth | walc | wtrans | wother | totexp | income | age | children | Totalbudget | table | \n",
       "|---|---|---|---|---|---|\n",
       "| 1   | 0   | 0   | 0   | 0   | 0   | 0   |  50 | 130 | 25  | 2   | 1   | 1   | \n",
       "| 2   | 0   | 0   | 0   | 0   | 0   | 0   |  90 | 150 | 39  | 2   | 1   | 1   | \n",
       "| 3   | 0   | 0   | 0   | 0   | 0   | 0   | 180 | 230 | 47  | 2   | 1   | 1   | \n",
       "| 4   | 0   | 0   | 0   | 0   | 0   | 0   |  80 | 100 | 33  | 2   | 1   | 1   | \n",
       "| 5   | 0   | 0   | 0   | 0   | 0   | 0   |  90 | 100 | 31  | 1   | 1   | 1   | \n",
       "| 6   | 0   | 0   | 0   | 0   | 0   | 0   |  70 |  70 | 24  | 1   | 1   | 1   | \n",
       "\n",
       "\n"
      ],
      "text/plain": [
       "  id wfood wfuel wcloth walc wtrans wother totexp income age children\n",
       "1 1  0     0     0      0    0      0       50    130    25  2       \n",
       "2 2  0     0     0      0    0      0       90    150    39  2       \n",
       "3 3  0     0     0      0    0      0      180    230    47  2       \n",
       "4 4  0     0     0      0    0      0       80    100    33  2       \n",
       "5 5  0     0     0      0    0      0       90    100    31  1       \n",
       "6 6  0     0     0      0    0      0       70     70    24  1       \n",
       "  Totalbudget table\n",
       "1 1           1    \n",
       "2 1           1    \n",
       "3 1           1    \n",
       "4 1           1    \n",
       "5 1           1    \n",
       "6 1           1    "
      ]
     },
     "metadata": {},
     "output_type": "display_data"
    }
   ],
   "source": [
    "head(budget1)"
   ]
  },
  {
   "cell_type": "code",
   "execution_count": 33,
   "metadata": {
    "collapsed": true
   },
   "outputs": [],
   "source": [
    "budget$wfuel <- as.integer(as.character(budget$wfuel))\n",
    "budget$wcloth <- as.integer(as.character(budget$wcloth))\n",
    "budget$walc <- as.integer(as.character(budget$walc))\n",
    "budget$wtrans <- as.integer(as.character(budget$wtrans))\n",
    "budget$wother <- as.integer(as.character(budget$wother))\n",
    "budget$totexp <- as.integer(as.character(budget$totexp))\n",
    "budget$income <- as.integer(as.character(budget$income))\n",
    "budget$age <- as.integer(as.character(budget$age))\n",
    "budget$wfood <- as.integer(as.character(budget$wfood))"
   ]
  },
  {
   "cell_type": "code",
   "execution_count": null,
   "metadata": {
    "collapsed": false
   },
   "outputs": [],
   "source": [
    "warning <- "
   ]
  },
  {
   "cell_type": "code",
   "execution_count": 36,
   "metadata": {
    "collapsed": false
   },
   "outputs": [
    {
     "name": "stderr",
     "output_type": "stream",
     "text": [
      "Warning message in eval(expr, envir, enclos):\n",
      "\"1:1519c(0.4272, 0.3739, 0.1941, 0.4438, 0.3331, 0.3752, 0.2568, 0.4533, 0.3279, 0.4608, 0.3447, 0.4491, 0.4439, 0.209, 0.2706, 0.5536, 0.5195, 0.2396, 0.2846, 0.3472, 0.4715, 0.3284, 0.4574, 0.3102, 0.3429, 0.1851, 0.4079, 0.5911, 0.4152, 0.3459, 0.4885, 0.4478, 0.4094, 0.4934, 0.2901, 0.2663, 0.3813, 0.4107, 0.434, 0.3216, 0.3827, 0.3867, 0.393, 0.3586, 0.285, 0.3926, 0.3527, 0.345, 0.2629, 0.3875, 0.2917, 0.3149, 0.175, 0.3749, 0.1839, 0.2186, 0.4155, 0.3472, 0.4649, 0.2423, 0.4419, 0.354, 0.4502, 0.3358, \n",
      "0.3719, 0.6465, 0.5217, 0.3585, 0.277, 0.5348, 0.4984, 0.4223, 0.4533, 0.4202, 0.4362, 0.3533, 0.1946, 0.5833, 0.3788, 0.0954, 0.1541, 0.3933, 0.3059, 0.3127, 0.4432, 0.545, 0.4724, 0.44, 0.3212, 0.3942, 0.3527, 0.2806, 0.5766, 0.3694, 0.3057, 0.4299, 0.1694, 0.3738, 0.2685, 0.4645, 0.5164, 0.3427, 0.2412, 0.3644, 0.3697, 0.3834, 0.4053, 0.2957, 0.2762, 0.2976, 0.4156, 0.3124, 0.431, 0.3437, 0.4042, 0.4542, 0.3216, 0.5014, 0.2488, 0.4533, 0.2205, 0.2249, 0.3389, 0.4056, 0.398, 0.601, 0.3364, 0.3838, \n",
      "0.3929, 0.4722, 0.3017, 0.378, 0.3477, 0.3629, 0.4101, 0.3658, 0.3106, 0.4269, 0.5405, 0.3847, 0.391, 0.3065, 0.4999, 0.3992, 0.2944, 0.4522, 0.2772, 0.3962, 0.261, 0.2807, 0.4399, 0.1945, 0.5701, 0.4398, 0.359, 0.3636, 0.5982, 0.1851, 0.323, 0.5488, 0.328, 0.2709, 0.2599, 0.3497, 0.3484, 0.3238, 0.4954, 0.4322, 0.2263, 0.3794, 0.4905, 0.4193, 0.3539, 0.2525, 0.3542, 0.4954, 0.2534, 0.4168, 0.2711, 0.3652, 0.2524, 0.3118, 0.5008, 0.3932, 0.4222, 0.2935, 0.2829, 0.3064, 0.3179, 0.3115, 0.349, 0.2732, \n",
      "0.2379, 0.2649, 0.4293, 0.6198, 0.2304, 0.3047, 0.3369, 0.4712, 0.3133, 0.4675, 0.4443, 0.2289, 0.5017, 0.2027, 0.3768, 0.3379, 0.3324, 0.1835, 0.2276, 0.2553, 0.4138, 0.328, 0.2864, 0.3427, 0.2955, 0.338, 0.4854, 0.1651, 0.4313, 0.5303, 0.3351, 0.4342, 0.4325, 0.1622, 0.3918, 0.2994, 0.3198, 0.2924, 0.3762, 0.3412, 0.481, 0.5358, 0.3227, 0.4738, 0.3529, 0.4066, 0.1704, 0.5611, 0.4024, 0.3764, 0.2423, 0.4081, 0.388, 0.3655, 0.3862, 0.2942, 0.4118, 0.1976, 0.2167, 0.1803, 0.6184, 0.2957, 0.3868, 0.3422, \n",
      "0.4151, 0.2723, 0.2055, 0.1528, 0.2608, 0.3067, 0.2899, 0.5925, 0.3692, 0.246, 0.3976, 0.3399, 0.2668, 0.5079, 0.3389, 0.3986, 0.3601, 0.4083, 0.3177, 0.2243, 0.589, 0.3631, 0.3653, 0.266, 0.2549, 0.4558, 0.2926, 0.3027, 0.3956, 0.43, 0.3398, 0.323, 0.3591, 0.5934, 0.3603, 0.3594, 0.3454, 0.3599, 0.4153, 0.3472, 0.4277, 0.5257, 0.3569, 0.579, 0.3392, 0.2691, 0.4022, 0.4398, 0.3427, 0.3085, 0.3808, 0.1811, 0.1105, 0.2841, 0.2443, 0.3611, 0.1965, 0.4904, 0.0652, 0.2948, 0.332, 0.443, 0.4557, 0.4041, \n",
      "0.3828, 0.4461, 0.3396, 0.3824, 0.3482, 0.4756, 0.3522, 0.3152, 0.3531, 0.3299, 0.3935, 0.2736, 0.3898, 0.3488, 0.5098, 0.594, 0.4356, 0.4385, 0.2708, 0.3593, 0.3326, 0.3677, 0.4268, 0.3489, 0.2919, 0.3352, 0.2928, 0.3324, 0.423, 0.4254, 0.3877, 0.329, 0.482, 0.1496, 0.2524, 0.4303, 0.3269, 0.2305, 0.5143, 0.485, 0.4371, 0.2861, 0.4239, 0.1944, 0.3101, 0.491, 0.2305, 0.5644, 0.2951, 0.5477, 0.2691, 0.2352, 0.5765, 0.1386, 0.4069, 0.5294, 0.4601, 0.554, 0.2694, 0.5394, 0.5044, 0.4057, 0.1686, 0.3623, \n",
      "0.353, 0.2026, 0.3108, 0.3707, 0.1683, 0.2466, 0.1925, 0.3583, 0.3359, 0.4535, 0.4845, 0.4577, 0.4242, 0.2974, 0.2908, 0.4308, 0.2635, 0.2914, 0.3219, 0.3179, 0.3658, 0.4193, 0.3322, 0.2755, 0.3995, 0.4412, 0.2167, 0.468, 0.4914, 0.3053, 0.323, 0.4124, 0.4983, 0.486, 0.2906, 0.3834, 0.4949, 0.3092, 0.3324, 0.2919, 0.395, 0.4426, 0.3548, 0.3749, 0.4992, 0.4575, 0.5408, 0.4072, 0.45, 0.3413, 0.4418, 0.3266, 0.3844, 0.3728, 0.251, 0.2315, 0.3956, 0.4211, 0.2742, 0.1889, 0.4803, 0.5072, 0.4627, 0.1869, \n",
      "0.1194, 0.478, 0.2401, 0.3369, 0.3611, 0.402, 0.3111, 0.2689, 0.1158, 0.2544, 0.4369, 0.5553, 0.1507, 0.4968, 0.2693, 0.3363, 0.3686, 0.3259, 0.2673, 0.5679, 0.4209, 0.5027, 0.3872, 0.3768, 0.2204, 0.3434, 0.5174, 0.2853, 0.3139, 0.2914, 0.5166, 0.3948, 0.4704, 0.122, 0.2495, 0.3548, 0.1882, 0.3021, 0.4626, 0.2478, 0.306, 0.3053, 0.5723, 0.2924, 0.5411, 0.5003, 0.5119, 0.3864, 0.2975, 0.2979, 0.3723, 0.4346, 0.4123, 0.5025, 0.3488, 0.423, 0.2453, 0.271, 0.3454, 0.4243, 0.3669, 0.423, 0.2693, 0.499, \n",
      "0.3841, 0.4171, 0.2488, 0.2403, 0.2751, 0.2779, 0.1982, 0.4409, 0.3092, 0.3849, 0.4089, 0.513, 0.4494, 0.3781, 0.3814, 0.2628, 0.3794, 0.2786, 0.4128, 0.4947, 0.3988, 0.3904, 0.2431, 0.3599, 0.2366, 0.558, 0.4479, 0.1859, 0.4491, 0.2286, 0.3614, 0.2554, 0.2872, 0.6098, 0.387, 0.4306, 0.789, 0.3861, 0.3178, 0.1886, 0.4904, 0.355, 0.4152, 0.4255, 0.4838, 0.5036, 0.4598, 0.2682, 0.3999, 0.4836, 0.3255, 0.2718, 0.296, 0.6155, 0.3499, 0.3228, 0.2696, 0.4229, 0.205, 0.2685, 0.2964, 0.3964, 0.3855, 0.4148, \n",
      "0.351, 0.4774, 0.4735, 0.429, 0.2173, 0.2683, 0.3426, 0.4138, 0.3321, 0.4021, 0.3954, 0.3211, 0.3646, 0.5205, 0.4574, 0.3998, 0.4474, 0.4123, 0.3593, 0.4041, 0.3242, 0.4261, 0.3571, 0.3502, 0.4289, 0.4743, 0.3821, 0.345, 0.3525, 0.3297, 0.3371, 0.4033, 0.4155, 0.6017, 0.6097, 0.5865, 0.4613, 0.4124, 0.3444, 0.378, 0.4081, 0.3394, 0.526, 0.4397, 0.3458, 0.528, 0.3468, 0.3368, 0.371, 0.3056, 0.4298, 0.512, 0.5535, 0.4732, 0.3346, 0.4539, 0.2529, 0.4095, 0.4761, 0.3407, 0.2447, 0.2753, 0.2799, 0.2426, \n",
      "0.6113, 0.3358, 0.4102, 0.3961, 0.3632, 0.296, 0.3529, 0.2126, 0.3369, 0.3695, 0.3032, 0.3245, 0.4544, 0.3897, 0.2598, 0.1773, 0.1443, 0.2734, 0.2508, 0.4232, 0.5411, 0.2729, 0.3764, 0.2522, 0.4397, 0.462, 0.4755, 0.4494, 0.4446, 0.5062, 0.3628, 0.2586, 0.4237, 0.1019, 0.3465, 0.3675, 0.396, 0.3414, 0.3072, 0.2808, 0.4801, 0.4598, 0.4168, 0.195, 0.4115, 0.535, 0.3746, 0.4986, 0.4302, 0.5217, 0.2714, 0.3952, 0.1651, 0.195, 0.347, 0.2976, 0.4604, 0.3593, 0.3095, 0.4232, 0.3826, 0.077, 0.3304, 0.3945, \n",
      "0.2051, 0.389, 0.4323, 0.5111, 0.3492, 0.1279, 0.3985, 0.4766, 0.3876, 0.2218, 0.4682, 0.2687, 0.3571, 0.5424, 0.3819, 0.3829, 0.2254, 0.4335, 0.451, 0.1715, 0.3712, 0.3819, 0.3742, 0.3422, 0.3338, 0.3414, 0.2177, 0.3912, 0.357, 0.4808, 0.4626, 0.4229, 0.3094, 0.2119, 0.4931, 0.3017, 0.4722, 0.2732, 0.309, 0.4695, 0.3069, 0.3291, 0.4692, 0.3116, 0.2644, 0.3747, 0.4134, 0.3486, 0.2644, 0.2894, 0.1981, 0.1516, 0.3772, 0.5094, 0.2707, 0.4396, 0.3357, 0.224, 0.4503, 0.2651, 0.4231, 0.4537, 0.5979, 0.3424, \n",
      "0.2406, 0.4097, 0.4041, 0.4421, 0.445, 0.2998, 0.503, 0.3947, 0.438, 0.373, 0.3005, 0.3724, 0.3032, 0.3258, 0.3738, 0.3774, 0.4214, 0.1652, 0.3073, 0.4082, 0.4034, 0.2936, 0.3067, 0.3667, 0.3359, 0.3606, 0.3023, 0.4051, 0.2203, 0.3527, 0.3168, 0.3806, 0.4555, 0.5201, 0.4013, 0.2401, 0.2394, 0.2365, 0.3211, 0.3045, 0.4012, 0.3633, 0.3259, 0.1937, 0.3612, 0.3809, 0.367, 0.5025, 0.1715, 0.1256, 0.403, 0.2176, 0.253, 0.3166, 0.5307, 0.491, 0.3612, 0.4214, 0.3333, 0.4819, 0.2777, 0.4707, 0.2861, 0.2463, \n",
      "0.4736, 0.1911, 0.5053, 0.1949, 0.2453, 0.2936, 0.4156, 0.6327, 0.3829, 0.3735, 0.2378, 0.2614, 0.2068, 0.323, 0.3945, 0.537, 0.4944, 0.4383, 0.3391, 0.4608, 0.2041, 0.3204, 0.405, 0.2369, 0.2333, 0.4344, 0.2917, 0.3562, 0.2675, 0.4811, 0.429, 0.5094, 0.3327, 0.5056, 0.3406, 0.2111, 0.3088, 0.432, 0.3553, 0.5568, 0.5186, 0.2933, 0.3667, 0.2668, 0.531, 0.5669, 0.3578, 0.3795, 0.3978, 0.3371, 0.1984, 0.2973, 0.3687, 0.349, 0.3531, 0.3684, 0.4404, 0.3243, 0.2477, 0.2044, 0.355, 0.1344, 0.3549, 0.3851, \n",
      "0.2594, 0.4983, 0.2873, 0.1982, 0.396, 0.5154, 0.2818, 0.4256, 0.2599, 0.3318, 0.267, 0.1752, 0.2329, 0.3741, 0.3428, 0.3339, 0.3703, 0.191, 0.3376, 0.199, 0.3864, 0.2896, 0.23, 0.1815, 0.5406, 0.5215, 0.395, 0.4102, 0.2412, 0.2581, 0.2214, 0.3333, 0.382, 0.3664, 0.2498, 0.1339, 0.3324, 0.5185, 0.2115, 0.4328, 0.4696, 0.2327, 0.308, 0.1984, 0.4342, 0.2694, 0.201, 0.4019, 0.2442, 0.3507, 0.5806, 0.4426, 0.4034, 0.2186, 0.2434, 0.2913, 0.5896, 0.2626, 0.4051, 0.406, 0.3105, 0.383, 0.3347, 0.2284, 0.4934, \n",
      "0.3176, 0.4043, 0.4797, 0.2807, 0.4394, 0.3847, 0.3517, 0.3309, 0.2352, 0.2853, 0.5903, 0.4538, 0.2427, 0.1321, 0.4247, 0.31, 0.3418, 0.3047, 0.2758, 0.3699, 0.3243, 0.4146, 0.4132, 0.4075, 0.2371, 0.5804, 0.3293, 0.4646, 0.1946, 0.3961, 0.2225, 0.3435, 0.2418, 0.1673, 0.5267, 0.173, 0.3005, 0.4851, 0.4177, 0.3989, 0.3257, 0.4385, 0.3631, 0.4088, 0.3431, 0.4032, 0.3192, 0.1482, 0.2002, 0.3314, 0.2367, 0.1512, 0.4124, 0.2837, 0.3945, 0.418, 0.3473, 0.4311, 0.4924, 0.5048, 0.2773, 0.2655, 0.2085, 0.1964, \n",
      "0.4589, 0.2397, 0.1951, 0.2173, 0.2805, 0.4597, 0.2683, 0.2851, 0.2832, 0.1761, 0.1\""
     ]
    }
   ],
   "source": [
    "warning(budget1)"
   ]
  },
  {
   "cell_type": "code",
   "execution_count": null,
   "metadata": {
    "collapsed": true
   },
   "outputs": [],
   "source": []
  }
 ],
 "metadata": {
  "anaconda-cloud": {},
  "kernelspec": {
   "display_name": "R",
   "language": "R",
   "name": "ir"
  },
  "language_info": {
   "codemirror_mode": "r",
   "file_extension": ".r",
   "mimetype": "text/x-r-source",
   "name": "R",
   "pygments_lexer": "r",
   "version": "3.3.2"
  }
 },
 "nbformat": 4,
 "nbformat_minor": 1
}
